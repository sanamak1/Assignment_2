{
 "cells": [
  {
   "cell_type": "markdown",
   "id": "afcaf5d1-945e-47fe-9d4c-486471f5e398",
   "metadata": {},
   "source": [
    "Lab Assignment No 2 - Sanam\n",
    "200019305\n",
    "https://github.com/sanamak1/Assignment_2"
   ]
  }
 ],
 "metadata": {
  "kernelspec": {
   "display_name": "Python 3 (ipykernel)",
   "language": "python",
   "name": "python3"
  },
  "language_info": {
   "codemirror_mode": {
    "name": "ipython",
    "version": 3
   },
   "file_extension": ".py",
   "mimetype": "text/x-python",
   "name": "python",
   "nbconvert_exporter": "python",
   "pygments_lexer": "ipython3",
   "version": "3.10.9"
  }
 },
 "nbformat": 4,
 "nbformat_minor": 5
}
